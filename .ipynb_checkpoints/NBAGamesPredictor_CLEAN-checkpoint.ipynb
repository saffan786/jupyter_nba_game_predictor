{
 "cells": [
  {
   "cell_type": "code",
   "execution_count": 1,
   "metadata": {
    "collapsed": true,
    "extensions": {
     "jupyter_dashboards": {
      "version": 1,
      "views": {
       "grid_default": {
        "hidden": true
       },
       "report_default": {
        "hidden": true
       }
      }
     }
    }
   },
   "outputs": [],
   "source": [
    "import pandas as pd\n",
    "import matplotlib.pyplot as plt\n",
    "import numpy as np\n",
    "import seaborn as sns"
   ]
  },
  {
   "cell_type": "code",
   "execution_count": 2,
   "metadata": {
    "collapsed": true,
    "extensions": {
     "jupyter_dashboards": {
      "version": 1,
      "views": {
       "grid_default": {
        "hidden": true
       },
       "report_default": {
        "hidden": true
       }
      }
     }
    }
   },
   "outputs": [],
   "source": [
    "from sklearn.metrics import f1_score, make_scorer, classification_report\n",
    "\n",
    "scorer = make_scorer(f1_score, pos_label=None, average='weighted')\n",
    "\n",
    "#This fixes the date to be in the correct format while reading the file in\n",
    "df = pd.read_csv('data/2017_2018BoxScores.csv', parse_dates=['Date'])\n",
    "\n",
    "#This grabs the files for other stats for teams\n",
    "rankingsDF = pd.read_csv('data/NBAExpandedStandings2017_2018.csv', skiprows=[0], index_col='Team')\n",
    "teamPerGameStats = pd.read_csv('data/TeamPerGameStats2017_2018.csv', index_col='Team')\n",
    "\n",
    "#Renaming Columns to have them make more sense \n",
    "df.columns = ['Date', 'StartTime', 'VisitorTeam', 'VisitorPoints',\n",
    "              'HomeTeam', 'HomePoints', 'ScoreType', 'OT', 'Attendance','Notes']\n",
    "\n",
    "#Getting basic true false if home team won or lost\n",
    "df['HomeWins'] = df['HomePoints'] > df['VisitorPoints']\n",
    "y_true = df['HomeWins'].values"
   ]
  },
  {
   "cell_type": "code",
   "execution_count": 3,
   "metadata": {
    "extensions": {
     "jupyter_dashboards": {
      "version": 1,
      "views": {
       "grid_default": {
        "col": 0,
        "height": 4,
        "hidden": false,
        "row": 0,
        "width": 4
       },
       "report_default": {
        "hidden": false
       }
      }
     }
    }
   },
   "outputs": [
    {
     "name": "stdout",
     "output_type": "stream",
     "text": [
      "544\n",
      "316\n",
      "Home Team Win Percentage 58.0882352941\n"
     ]
    }
   ],
   "source": [
    "#Simple Prediction that the home team wins\n",
    "n_games = df['HomeWins'].count()\n",
    "print(n_games)\n",
    "n_homewins = df['HomeWins'].sum()\n",
    "print(n_homewins)\n",
    "win_percentage = 100 * (n_homewins / n_games)\n",
    "print('Home Team Win Percentage' , win_percentage)"
   ]
  },
  {
   "cell_type": "code",
   "execution_count": 4,
   "metadata": {
    "extensions": {
     "jupyter_dashboards": {
      "version": 1,
      "views": {
       "grid_default": {
        "col": 4,
        "height": 4,
        "hidden": false,
        "row": 0,
        "width": 4
       },
       "report_default": {
        "hidden": false
       }
      }
     }
    }
   },
   "outputs": [
    {
     "name": "stderr",
     "output_type": "stream",
     "text": [
      "/Users/saffanprasla/anaconda3/lib/python3.6/site-packages/sklearn/metrics/classification.py:1135: UndefinedMetricWarning: F-score is ill-defined and being set to 0.0 in labels with no predicted samples.\n",
      "  'precision', 'predicted', average, warn_for)\n"
     ]
    },
    {
     "data": {
      "text/plain": [
       "0.4268809849521204"
      ]
     },
     "execution_count": 4,
     "metadata": {},
     "output_type": "execute_result"
    }
   ],
   "source": [
    "#Predicting the score we need to beat to have an advantage \n",
    "#This score we need to beat is the score you get when always picking the home team to win\n",
    "from sklearn.metrics import f1_score\n",
    "y_pred= [1] * len(y_true)\n",
    "f1_score(y_true, y_pred, pos_label = None, average='weighted')"
   ]
  },
  {
   "cell_type": "code",
   "execution_count": 5,
   "metadata": {
    "collapsed": true,
    "extensions": {
     "jupyter_dashboards": {
      "version": 1,
      "views": {
       "grid_default": {
        "hidden": true
       },
       "report_default": {
        "hidden": true
       }
      }
     }
    }
   },
   "outputs": [],
   "source": [
    "#Going through and setting the LastWins for both home and Visitor based off of previous data\n",
    "from datetime import datetime, timedelta\n",
    "\n",
    "#This gets the Home Teams Rest and if they had a back to back home game\n",
    "#Line commented below can be used later to get the number of days of rest\n",
    "#df['HomeRest'] =  df.groupby(['HomeTeam'])['Date'].diff() - timedelta(days=1) \n",
    "home_rest_holder = df.groupby(['HomeTeam'])['Date'].diff() - timedelta(days=1) == timedelta(days=0)\n",
    "df['HomeBackToBack'] = home_rest_holder\n",
    "\n",
    "\n",
    "#This gets the Away Team and if they had a back to back away Game\n",
    "#Line commented below can be used later to get the number of days of rest\n",
    "#df['VisitorRest'] =  df.groupby(['VisitorTeam'])['Date'].diff() - timedelta(days=1) \n",
    "visitor_rest_holder = df.groupby(['VisitorTeam'])['Date'].diff() - timedelta(days=1)  == timedelta(days=0)\n",
    "df['VisitorBackToBack'] = visitor_rest_holder\n",
    "\n",
    "\n",
    "##NOTE THIS NEEDS TO BE A BACK TO BACK GAME REGARDLESS OF HOME OR AWAY.. RIGHT NOW IT DOESNT ACCOUNT FOR BOTH\n",
    "\n"
   ]
  },
  {
   "cell_type": "code",
   "execution_count": 6,
   "metadata": {
    "collapsed": true,
    "extensions": {
     "jupyter_dashboards": {
      "version": 1,
      "views": {
       "grid_default": {
        "hidden": true
       },
       "report_default": {
        "hidden": true
       }
      }
     }
    }
   },
   "outputs": [],
   "source": [
    "#This method below finds the rankings of the visitor team and the home team and visitor team\n",
    "#and sets the row to true if home team ranks higher else false.\n",
    "def home_team_rankings_higher(row):\n",
    "    home_team  = row['HomeTeam']\n",
    "    visitor_team = row['VisitorTeam']\n",
    "    home_rank = rankingsDF.loc[home_team]['Rk']\n",
    "    visitor_rank = rankingsDF.loc[visitor_team]['Rk']\n",
    "    return home_rank < visitor_rank #the lower the rank the higher you are thats why hometeam < visitor\n",
    "\n",
    "df['HomeTeamRanksHigher'] = df.apply(home_team_rankings_higher, axis = 1)\n"
   ]
  },
  {
   "cell_type": "code",
   "execution_count": 7,
   "metadata": {
    "collapsed": true,
    "extensions": {
     "jupyter_dashboards": {
      "version": 1,
      "views": {
       "grid_default": {
        "hidden": true
       },
       "report_default": {
        "hidden": true
       }
      }
     }
    }
   },
   "outputs": [],
   "source": [
    "#This method below finds teams per game stats that is still in the works like FG%, 3P%, Assist\n",
    "#And Compares them to the opponents and if its higher then it will be true else false\n",
    "def home_team_field_goal_percent_higher(row, column_name):\n",
    "    home_team  = row['HomeTeam']\n",
    "    visitor_team = row['VisitorTeam']\n",
    "    home_fg_percentage = teamPerGameStats.loc[home_team][column_name]\n",
    "    visitor_fg_percentage = teamPerGameStats.loc[visitor_team][column_name]\n",
    "    return home_fg_percentage > visitor_fg_percentage\n",
    "\n",
    "\n",
    "def home_team_per_assist_turnover_ratio_higher(row):\n",
    "    home_team  = row['HomeTeam']\n",
    "    visitor_team = row['VisitorTeam']\n",
    "    home_assist_turnover_ratio = teamPerGameStats.loc[home_team]['AST'] / teamPerGameStats.loc[home_team]['TOV']\n",
    "    visitor_assist_turnover_ratio = teamPerGameStats.loc[visitor_team]['AST'] / teamPerGameStats.loc[visitor_team]['TOV']\n",
    "    return home_assist_turnover_ratio > visitor_assist_turnover_ratio \n",
    "\n",
    "\n",
    "df['HomeTeamFG%Higher'] = df.apply(home_team_field_goal_percent_higher, args=('FG%',) ,axis = 1)\n",
    "df['HomeTeam3P%Higher'] = df.apply(home_team_field_goal_percent_higher, args=('3P%',) ,axis = 1)\n",
    "df['HomeTeamPTSHigher'] = df.apply(home_team_field_goal_percent_higher, args=('PTS',) ,axis = 1)\n",
    "df['HomeTeamAssistTurnOverRatioHigher'] = df.apply(home_team_per_assist_turnover_ratio_higher, axis = 1)"
   ]
  },
  {
   "cell_type": "code",
   "execution_count": 8,
   "metadata": {
    "collapsed": true,
    "extensions": {
     "jupyter_dashboards": {
      "version": 1,
      "views": {
       "grid_default": {
        "hidden": true
       },
       "report_default": {
        "hidden": true
       }
      }
     }
    }
   },
   "outputs": [],
   "source": [
    "#This is the predictor variable \n",
    "#RENAME THIS\n",
    "X_features = df[['HomeTeamRanksHigher','HomeTeamFG%Higher', 'HomeTeamPTSHigher','HomeTeamAssistTurnOverRatioHigher','HomeTeam3P%Higher']]\n"
   ]
  },
  {
   "cell_type": "code",
   "execution_count": 9,
   "metadata": {
    "extensions": {
     "jupyter_dashboards": {
      "version": 1,
      "views": {
       "grid_default": {
        "col": 8,
        "height": 4,
        "hidden": false,
        "row": 0,
        "width": 4
       },
       "report_default": {
        "hidden": false
       }
      }
     }
    }
   },
   "outputs": [
    {
     "name": "stdout",
     "output_type": "stream",
     "text": [
      "0.633504224636\n"
     ]
    }
   ],
   "source": [
    "# from sklearn.model_selection import train_test_split\n",
    "# from sklearn.model_selection import cross_val_score\n",
    "from sklearn.model_selection import StratifiedKFold\n",
    "# from sklearn.model_selection import KFold\n",
    "# from sklearn.metrics import accuracy_score\n",
    "# from sklearn.feature_selection import RFECV\n",
    "from sklearn.linear_model import LogisticRegression\n",
    "from sklearn.model_selection import GridSearchCV\n",
    "\n",
    "strat_k_fold = StratifiedKFold(n_splits=10, random_state=10)\n",
    "\n",
    "# Specify parameters\n",
    "c_values = list(np.arange(1, 10))\n",
    "param_grid = [\n",
    "    {'C': c_values, 'penalty': ['l1'], 'solver' : ['liblinear'], 'multi_class' : ['ovr']},\n",
    "    {'C': c_values, 'penalty': ['l2'], 'solver' : ['liblinear', 'newton-cg', 'lbfgs'], 'multi_class' : ['ovr']}\n",
    "]\n",
    "\n",
    "grid = GridSearchCV(LogisticRegression(), param_grid, cv=strat_k_fold, scoring='accuracy', iid=False)\n",
    "grid.fit(X_features, y_true)\n",
    "print(grid.best_score_)"
   ]
  },
  {
   "cell_type": "code",
   "execution_count": 10,
   "metadata": {
    "collapsed": true,
    "extensions": {
     "jupyter_dashboards": {
      "version": 1,
      "views": {
       "grid_default": {
        "hidden": true
       },
       "report_default": {
        "hidden": true
       }
      }
     }
    }
   },
   "outputs": [],
   "source": [
    "#This fixes the date to be in the correct format while reading the file in\n",
    "df2 = pd.read_csv('data/2018_2019BoxScores.csv', parse_dates=['Date'])\n",
    "rankingsDF = pd.read_csv('data/NBAExpandedStandings2018_2019.csv', skiprows=[0], index_col='Team')\n",
    "teamPerGameStats = pd.read_csv('data/TeamPerGameStats2018_2019.csv', index_col='Team')\n",
    "\n",
    "#Renaming Columns to have them make more sense \n",
    "df2.columns = ['Date', 'StartTime', 'VisitorTeam', 'VisitorPoints',\n",
    "              'HomeTeam', 'HomePoints', 'ScoreType', 'OT', 'Attendance','Notes']"
   ]
  },
  {
   "cell_type": "code",
   "execution_count": 11,
   "metadata": {
    "extensions": {
     "jupyter_dashboards": {
      "version": 1,
      "views": {
       "grid_default": {
        "col": 0,
        "height": 4,
        "hidden": false,
        "row": 4,
        "width": 4
       },
       "report_default": {
        "hidden": false
       }
      }
     }
    }
   },
   "outputs": [
    {
     "name": "stdout",
     "output_type": "stream",
     "text": [
      "535\n",
      "324\n",
      "Home Team Win Percentage 60.5607476636\n"
     ]
    }
   ],
   "source": [
    "df2['HomeWins'] = df2['HomePoints'] > df2['VisitorPoints']\n",
    "y_test = df2['HomeWins'].values\n",
    "\n",
    "#Simple Prediction that the home team wins\n",
    "n_games = df2['HomeWins'].count()\n",
    "print(n_games)\n",
    "n_homewins = df2['HomeWins'].sum()\n",
    "print(n_homewins)\n",
    "win_percentage = 100 * (n_homewins / n_games)\n",
    "print('Home Team Win Percentage' , win_percentage)"
   ]
  },
  {
   "cell_type": "code",
   "execution_count": 12,
   "metadata": {
    "collapsed": true,
    "extensions": {
     "jupyter_dashboards": {
      "version": 1,
      "views": {
       "grid_default": {
        "hidden": true
       },
       "report_default": {
        "hidden": true
       }
      }
     }
    }
   },
   "outputs": [],
   "source": [
    "df2['HomeTeamRanksHigher'] = df2.apply(home_team_rankings_higher, axis = 1)\n",
    "df2['HomeTeamFG%Higher'] = df2.apply(home_team_field_goal_percent_higher, args=('FG%',) , axis = 1)\n",
    "df2['HomeTeam3P%Higher'] = df2.apply(home_team_field_goal_percent_higher, args=('3P%',) ,axis = 1)\n",
    "df2['HomeTeamPTSHigher'] = df2.apply(home_team_field_goal_percent_higher, args=('PTS',) ,axis = 1)\n",
    "df2['HomeTeamAssistTurnOverRatioHigher'] = df2.apply(home_team_per_assist_turnover_ratio_higher, axis = 1)"
   ]
  },
  {
   "cell_type": "code",
   "execution_count": 13,
   "metadata": {
    "collapsed": true,
    "extensions": {
     "jupyter_dashboards": {
      "version": 1,
      "views": {
       "grid_default": {
        "hidden": true
       },
       "report_default": {
        "hidden": true
       }
      }
     }
    }
   },
   "outputs": [],
   "source": [
    "#This gets the Home Teams Rest and if they had a back to back home game\n",
    "#Line commented below can be used later to get the number of days of rest\n",
    "#df['HomeRest'] =  df.groupby(['HomeTeam'])['Date'].diff() - timedelta(days=1) \n",
    "home_rest_holder = df2.groupby(['HomeTeam'])['Date'].diff() - timedelta(days=1) == timedelta(days=0)\n",
    "df2['HomeBackToBack'] = home_rest_holder\n",
    "\n",
    "\n",
    "#This gets the Away Team and if they had a back to back away Game\n",
    "#Line commented below can be used later to get the number of days of rest\n",
    "#df['VisitorRest'] =  df.groupby(['VisitorTeam'])['Date'].diff() - timedelta(days=1) \n",
    "visitor_rest_holder = df2.groupby(['VisitorTeam'])['Date'].diff() - timedelta(days=1)  == timedelta(days=0)\n",
    "df2['VisitorBackToBack'] = visitor_rest_holder\n"
   ]
  },
  {
   "cell_type": "code",
   "execution_count": 14,
   "metadata": {
    "collapsed": true,
    "extensions": {
     "jupyter_dashboards": {
      "version": 1,
      "views": {
       "grid_default": {
        "hidden": true
       },
       "report_default": {
        "hidden": true
       }
      }
     }
    }
   },
   "outputs": [],
   "source": [
    "#This is the predictor variable \n",
    "#RENAME THIS\n",
    "X_prediction_features = df2[['HomeTeamRanksHigher','HomeTeamFG%Higher', 'HomeTeamPTSHigher', 'HomeTeamAssistTurnOverRatioHigher','HomeTeam3P%Higher']]\n"
   ]
  },
  {
   "cell_type": "code",
   "execution_count": 15,
   "metadata": {
    "extensions": {
     "jupyter_dashboards": {
      "version": 1,
      "views": {
       "grid_default": {
        "col": 4,
        "height": 9,
        "hidden": false,
        "row": 4,
        "width": 4
       },
       "report_default": {
        "hidden": false
       }
      }
     }
    }
   },
   "outputs": [
    {
     "name": "stdout",
     "output_type": "stream",
     "text": [
      "             precision    recall  f1-score   support\n",
      "\n",
      "      False       0.56      0.56      0.56       211\n",
      "       True       0.71      0.71      0.71       324\n",
      "\n",
      "avg / total       0.65      0.65      0.65       535\n",
      "\n",
      "Number to beat 0.605607476636\n",
      "My Predictor 0.65046728972\n"
     ]
    }
   ],
   "source": [
    "from sklearn.metrics import classification_report\n",
    "\n",
    "y_true = [1] * len(y_test)\n",
    "y_pred = grid.predict(X_prediction_features)\n",
    "print(classification_report(y_test,y_pred))\n",
    "print('Number to beat', np.mean(y_test==y_true))\n",
    "print ('My Predictor', np.mean(y_test==y_pred))"
   ]
  }
 ],
 "metadata": {
  "extensions": {
   "jupyter_dashboards": {
    "activeView": "report_default",
    "version": 1,
    "views": {
     "grid_default": {
      "cellMargin": 10,
      "defaultCellHeight": 20,
      "maxColumns": 12,
      "name": "grid",
      "type": "grid"
     },
     "report_default": {
      "name": "report",
      "type": "report"
     }
    }
   }
  },
  "kernelspec": {
   "display_name": "Python 3",
   "language": "python",
   "name": "python3"
  },
  "language_info": {
   "codemirror_mode": {
    "name": "ipython",
    "version": 3
   },
   "file_extension": ".py",
   "mimetype": "text/x-python",
   "name": "python",
   "nbconvert_exporter": "python",
   "pygments_lexer": "ipython3",
   "version": "3.6.3"
  }
 },
 "nbformat": 4,
 "nbformat_minor": 2
}
