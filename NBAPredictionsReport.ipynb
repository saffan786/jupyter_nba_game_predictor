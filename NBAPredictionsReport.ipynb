{
 "cells": [
  {
   "cell_type": "markdown",
   "metadata": {
    "extensions": {
     "jupyter_dashboards": {
      "version": 1,
      "views": {
       "grid_default": {
        "col": 3,
        "height": 4,
        "hidden": false,
        "row": 0,
        "width": 4
       },
       "report_default": {
        "hidden": false
       }
      }
     }
    }
   },
   "source": [
    "# <center>NBA Outcome Predictor</center>"
   ]
  },
  {
   "cell_type": "markdown",
   "metadata": {
    "extensions": {
     "jupyter_dashboards": {
      "version": 1,
      "views": {
       "grid_default": {
        "col": 3,
        "height": 4,
        "hidden": false,
        "row": 4,
        "width": 4
       },
       "report_default": {
        "hidden": false
       }
      }
     }
    }
   },
   "source": [
    "## Choose your match up"
   ]
  },
  {
   "cell_type": "code",
   "execution_count": 1,
   "metadata": {
    "collapsed": true,
    "extensions": {
     "jupyter_dashboards": {
      "version": 1,
      "views": {
       "grid_default": {
        "hidden": true
       },
       "report_default": {
        "hidden": true
       }
      }
     }
    }
   },
   "outputs": [],
   "source": [
    "#Import Everything here \n",
    "from ipywidgets import widgets\n",
    "import pandas as pd\n",
    "import matplotlib.pyplot as plt\n",
    "import numpy as np\n",
    "import seaborn as sns\n",
    "import ipython_blocking\n",
    "from sklearn.linear_model import LogisticRegression\n",
    "from sklearn.model_selection import GridSearchCV\n",
    "from sklearn.model_selection import StratifiedKFold\n",
    "from datetime import datetime, timedelta\n",
    "from IPython.display import  Markdown, Javascript, display\n",
    "from ipywidgets import widgets\n",
    "\n",
    "plt.style.use('ggplot')\n",
    "ipython_blocking.load_ipython_extensions()\n"
   ]
  },
  {
   "cell_type": "code",
   "execution_count": 2,
   "metadata": {
    "collapsed": true,
    "extensions": {
     "jupyter_dashboards": {
      "version": 1,
      "views": {
       "grid_default": {
        "hidden": true
       },
       "report_default": {
        "hidden": true
       }
      }
     }
    }
   },
   "outputs": [],
   "source": [
    "#All Functions in this block\n",
    "def prediction_model_run(b):\n",
    "    display(Javascript('IPython.notebook.execute_cells_below()'))\n",
    "\n",
    "def printmd(string):\n",
    "    display(Markdown(string))\n",
    "    \n",
    "def name_winning_team(row):\n",
    "    if(row.VisitorPoints > row.HomePoints):\n",
    "        return row['VisitorTeam']\n",
    "    else:\n",
    "        return row['HomeTeam']\n",
    "    \n",
    "def winning_team_prediction(x):\n",
    "    if(x):\n",
    "        return home_team.value\n",
    "    else:\n",
    "        return away_team.value\n",
    "\n",
    "    \n",
    "#This method below finds the rankings of the visitor team and the home team and visitor team\n",
    "#and sets the row to true if home team ranks higher else false.\n",
    "def home_team_rankings_higher(row):\n",
    "    home_team  = row['HomeTeam']\n",
    "    visitor_team = row['VisitorTeam']\n",
    "    home_rank = rankings_df.loc[home_team]['Rk']\n",
    "    visitor_rank = rankings_df.loc[visitor_team]['Rk']\n",
    "    return home_rank < visitor_rank #the lower the rank the higher you are thats why hometeam < visitor\n",
    "\n",
    "    \n",
    "#This method below finds teams per game stats that is still in the works like FG%, 3P%, Assist\n",
    "#And Compares them to the opponents and if its higher then it will be true else false\n",
    "def home_team_field_goal_percent_higher(row, column_name):\n",
    "    home_team  = row['HomeTeam']\n",
    "    visitor_team = row['VisitorTeam']\n",
    "    home_fg_percentage = team_per_game_stats_df.loc[home_team][column_name]\n",
    "    visitor_fg_percentage = team_per_game_stats_df.loc[visitor_team][column_name]\n",
    "    return home_fg_percentage > visitor_fg_percentage\n",
    "\n",
    "\n",
    "def home_team_per_assist_turnover_ratio_higher(row):\n",
    "    home_team  = row['HomeTeam']\n",
    "    visitor_team = row['VisitorTeam']\n",
    "    home_assist_turnover_ratio = team_per_game_stats_df.loc[home_team]['AST'] / team_per_game_stats_df.loc[home_team]['TOV']\n",
    "    visitor_assist_turnover_ratio = team_per_game_stats_df.loc[visitor_team]['AST'] / team_per_game_stats_df.loc[visitor_team]['TOV']\n",
    "    return home_assist_turnover_ratio > visitor_assist_turnover_ratio \n"
   ]
  },
  {
   "cell_type": "code",
   "execution_count": 3,
   "metadata": {
    "collapsed": true,
    "extensions": {
     "jupyter_dashboards": {
      "version": 1,
      "views": {
       "grid_default": {
        "hidden": true
       },
       "report_default": {
        "hidden": true
       }
      }
     }
    }
   },
   "outputs": [],
   "source": [
    "#Getting All the Files we need to make predictions\n",
    "\n",
    "#This fixes the date to be in the correct format while reading the file in\n",
    "box_scores_df = pd.read_csv('data/2018_2019BoxScores.csv', parse_dates=['Date'])\n",
    "\n",
    "#This grabs the files for other stats for teams\n",
    "rankings_df = pd.read_csv('data/NBAExpandedStandings2018_2019.csv', skiprows=[0], index_col='Team')\n",
    "team_per_game_stats_df = pd.read_csv('data/TeamPerGameStats2018_2019.csv', index_col='Team')\n",
    "\n",
    "\n",
    "#Renaming Columns to have them make more sense \n",
    "box_scores_df.columns = ['Date', 'StartTime', 'VisitorTeam', 'VisitorPoints',\n",
    "              'HomeTeam', 'HomePoints', 'ScoreType', 'OT', 'Attendance','Notes']\n",
    "\n",
    "#Getting basic true false if home team won or lost\n",
    "box_scores_df['HomeWins'] = box_scores_df['HomePoints'] > box_scores_df['VisitorPoints']\n",
    "y_true = box_scores_df['HomeWins'].values\n",
    "\n"
   ]
  },
  {
   "cell_type": "code",
   "execution_count": 4,
   "metadata": {
    "collapsed": true,
    "extensions": {
     "jupyter_dashboards": {
      "version": 1,
      "views": {
       "grid_default": {
        "hidden": true
       },
       "report_default": {
        "hidden": false
       }
      }
     }
    }
   },
   "outputs": [],
   "source": [
    "away_team = widgets.Dropdown(\n",
    "    options = list(team_per_game_stats_df.index.values),\n",
    "    description='Away Team:',\n",
    "    value='Golden State Warriors',\n",
    "    disabled=False,\n",
    ")\n",
    "\n",
    "home_team = widgets.Dropdown(\n",
    "    options= list(team_per_game_stats_df.index.values),\n",
    "    description='Home Team:',\n",
    "    value='Houston Rockets',\n",
    "    disabled=False,\n",
    ")\n",
    "\n",
    "run_prediction = widgets.Button(description='Run Predictions')\n",
    "\n"
   ]
  },
  {
   "cell_type": "code",
   "execution_count": 5,
   "metadata": {
    "extensions": {
     "jupyter_dashboards": {
      "version": 1,
      "views": {
       "grid_default": {},
       "report_default": {
        "hidden": false
       }
      }
     }
    }
   },
   "outputs": [
    {
     "data": {
      "application/vnd.jupyter.widget-view+json": {
       "model_id": "c5df93b2b27c40e9a0776ce6c72332c4",
       "version_major": 2,
       "version_minor": 0
      },
      "text/plain": [
       "A Jupyter Widget"
      ]
     },
     "metadata": {},
     "output_type": "display_data"
    },
    {
     "data": {
      "application/vnd.jupyter.widget-view+json": {
       "model_id": "b2310d3f57d3424490c1e8dcc24dea12",
       "version_major": 2,
       "version_minor": 0
      },
      "text/plain": [
       "A Jupyter Widget"
      ]
     },
     "metadata": {},
     "output_type": "display_data"
    },
    {
     "data": {
      "application/vnd.jupyter.widget-view+json": {
       "model_id": "b5852d0084d44655acc54af1e49791fb",
       "version_major": 2,
       "version_minor": 0
      },
      "text/plain": [
       "A Jupyter Widget"
      ]
     },
     "metadata": {},
     "output_type": "display_data"
    }
   ],
   "source": [
    "display(home_team)\n",
    "display(away_team)\n",
    "display(run_prediction)\n",
    "\n",
    "run_prediction.on_click(prediction_model_run)\n"
   ]
  },
  {
   "cell_type": "code",
   "execution_count": 6,
   "metadata": {
    "collapsed": true,
    "extensions": {
     "jupyter_dashboards": {
      "version": 1,
      "views": {
       "grid_default": {
        "hidden": true
       },
       "report_default": {
        "hidden": true
       }
      }
     }
    }
   },
   "outputs": [],
   "source": [
    "#%block run_prediction"
   ]
  },
  {
   "cell_type": "code",
   "execution_count": 7,
   "metadata": {
    "collapsed": true,
    "extensions": {
     "jupyter_dashboards": {
      "version": 1,
      "views": {
       "grid_default": {
        "hidden": true
       },
       "report_default": {
        "hidden": true
       }
      }
     }
    }
   },
   "outputs": [],
   "source": [
    "d = {'Rk': [rankings_df.loc[home_team.value]['Rk'], rankings_df.loc[away_team.value]['Rk']],\n",
    "     'FG%': [team_per_game_stats_df.loc[home_team.value]['FG%'], team_per_game_stats_df.loc[away_team.value]['FG%']],\n",
    "     '3P%': [team_per_game_stats_df.loc[home_team.value]['3P%'], team_per_game_stats_df.loc[away_team.value]['3P%']],\n",
    "     'PPG': [team_per_game_stats_df.loc[home_team.value]['PTS'], team_per_game_stats_df.loc[away_team.value]['PTS']],\n",
    "     'AssistTurnoverRatio' : [team_per_game_stats_df.loc[home_team.value]['AST'] / team_per_game_stats_df.loc[home_team.value]['TOV'], team_per_game_stats_df.loc[away_team.value]['AST'] / team_per_game_stats_df.loc[away_team.value]['TOV']],\n",
    "    }\n",
    "\n",
    "results_df = pd.DataFrame(data=d, index=[home_team.value, away_team.value])"
   ]
  },
  {
   "cell_type": "markdown",
   "metadata": {
    "extensions": {
     "jupyter_dashboards": {
      "version": 1,
      "views": {
       "grid_default": {
        "col": 8,
        "height": 4,
        "hidden": false,
        "row": 0,
        "width": 4
       },
       "report_default": {
        "hidden": false
       }
      }
     }
    }
   },
   "source": [
    "## Team Comparisons\n"
   ]
  },
  {
   "cell_type": "code",
   "execution_count": 8,
   "metadata": {
    "extensions": {
     "jupyter_dashboards": {
      "version": 1,
      "views": {
       "grid_default": {
        "hidden": true
       },
       "report_default": {
        "hidden": false
       }
      }
     }
    }
   },
   "outputs": [
    {
     "data": {
      "text/markdown": [
       "Factors used to Predict Outcome"
      ],
      "text/plain": [
       "<IPython.core.display.Markdown object>"
      ]
     },
     "metadata": {},
     "output_type": "display_data"
    },
    {
     "data": {
      "text/html": [
       "<style  type=\"text/css\" >\n",
       "    #T_6b711a38_3dda_11e9_a796_406c8f501a38row1_col0 {\n",
       "            background-color:  lightgreen;\n",
       "        }    #T_6b711a38_3dda_11e9_a796_406c8f501a38row1_col1 {\n",
       "            background-color:  lightgreen;\n",
       "        }    #T_6b711a38_3dda_11e9_a796_406c8f501a38row1_col2 {\n",
       "            background-color:  lightgreen;\n",
       "        }    #T_6b711a38_3dda_11e9_a796_406c8f501a38row1_col3 {\n",
       "            background-color:  lightgreen;\n",
       "        }    #T_6b711a38_3dda_11e9_a796_406c8f501a38row1_col4 {\n",
       "            background-color:  lightgreen;\n",
       "        }</style>  \n",
       "<table id=\"T_6b711a38_3dda_11e9_a796_406c8f501a38\" > \n",
       "<thead>    <tr> \n",
       "        <th class=\"blank level0\" ></th> \n",
       "        <th class=\"col_heading level0 col0\" >3P%</th> \n",
       "        <th class=\"col_heading level0 col1\" >AssistTurnoverRatio</th> \n",
       "        <th class=\"col_heading level0 col2\" >FG%</th> \n",
       "        <th class=\"col_heading level0 col3\" >PPG</th> \n",
       "        <th class=\"col_heading level0 col4\" >Rk</th> \n",
       "    </tr></thead> \n",
       "<tbody>    <tr> \n",
       "        <th id=\"T_6b711a38_3dda_11e9_a796_406c8f501a38level0_row0\" class=\"row_heading level0 row0\" >Houston Rockets</th> \n",
       "        <td id=\"T_6b711a38_3dda_11e9_a796_406c8f501a38row0_col0\" class=\"data row0 col0\" >0.346</td> \n",
       "        <td id=\"T_6b711a38_3dda_11e9_a796_406c8f501a38row0_col1\" class=\"data row0 col1\" >1.54015</td> \n",
       "        <td id=\"T_6b711a38_3dda_11e9_a796_406c8f501a38row0_col2\" class=\"data row0 col2\" >0.448</td> \n",
       "        <td id=\"T_6b711a38_3dda_11e9_a796_406c8f501a38row0_col3\" class=\"data row0 col3\" >109.8</td> \n",
       "        <td id=\"T_6b711a38_3dda_11e9_a796_406c8f501a38row0_col4\" class=\"data row0 col4\" >13</td> \n",
       "    </tr>    <tr> \n",
       "        <th id=\"T_6b711a38_3dda_11e9_a796_406c8f501a38level0_row1\" class=\"row_heading level0 row1\" >Golden State Warriors</th> \n",
       "        <td id=\"T_6b711a38_3dda_11e9_a796_406c8f501a38row1_col0\" class=\"data row1 col0\" >0.376</td> \n",
       "        <td id=\"T_6b711a38_3dda_11e9_a796_406c8f501a38row1_col1\" class=\"data row1 col1\" >1.95105</td> \n",
       "        <td id=\"T_6b711a38_3dda_11e9_a796_406c8f501a38row1_col2\" class=\"data row1 col2\" >0.48</td> \n",
       "        <td id=\"T_6b711a38_3dda_11e9_a796_406c8f501a38row1_col3\" class=\"data row1 col3\" >115.4</td> \n",
       "        <td id=\"T_6b711a38_3dda_11e9_a796_406c8f501a38row1_col4\" class=\"data row1 col4\" >2</td> \n",
       "    </tr></tbody> \n",
       "</table> "
      ],
      "text/plain": [
       "<pandas.io.formats.style.Styler at 0x1a0c9c0ba8>"
      ]
     },
     "metadata": {},
     "output_type": "display_data"
    }
   ],
   "source": [
    "if home_team.value != away_team.value :\n",
    "    printmd('Factors used to Predict Outcome')\n",
    "    display(results_df.style\\\n",
    "    .highlight_max(subset=['3P%','AssistTurnoverRatio','FG%','PPG'] , color='lightgreen')\\\n",
    "    .highlight_min(subset=['Rk'], color='lightgreen'))"
   ]
  },
  {
   "cell_type": "markdown",
   "metadata": {
    "extensions": {
     "jupyter_dashboards": {
      "version": 1,
      "views": {
       "grid_default": {
        "col": 0,
        "height": 4,
        "hidden": false,
        "row": 8,
        "width": 4
       },
       "report_default": {
        "hidden": false
       }
      }
     }
    }
   },
   "source": [
    "## Previous Game Results"
   ]
  },
  {
   "cell_type": "code",
   "execution_count": 9,
   "metadata": {
    "collapsed": true,
    "extensions": {
     "jupyter_dashboards": {
      "version": 1,
      "views": {
       "grid_default": {
        "hidden": true
       },
       "report_default": {
        "hidden": true
       }
      }
     }
    }
   },
   "outputs": [],
   "source": [
    "previous_matchups = box_scores_df.loc[box_scores_df['HomeTeam'].isin({home_team.value,away_team.value}) \n",
    "                  & box_scores_df['VisitorTeam'].isin({home_team.value,away_team.value})]\n",
    "\n",
    "previous_matchups = previous_matchups[['Date','VisitorPoints', 'VisitorTeam','HomeTeam', 'HomePoints']]\n",
    "if(len(previous_matchups) > 0):\n",
    "    previous_matchups['Winner'] = previous_matchups.apply(name_winning_team, axis = 1)\n"
   ]
  },
  {
   "cell_type": "code",
   "execution_count": 10,
   "metadata": {
    "extensions": {
     "jupyter_dashboards": {
      "version": 1,
      "views": {
       "grid_default": {
        "hidden": true
       },
       "report_default": {
        "hidden": false
       }
      }
     }
    }
   },
   "outputs": [
    {
     "data": {
      "text/html": [
       "<div>\n",
       "<style>\n",
       "    .dataframe thead tr:only-child th {\n",
       "        text-align: right;\n",
       "    }\n",
       "\n",
       "    .dataframe thead th {\n",
       "        text-align: left;\n",
       "    }\n",
       "\n",
       "    .dataframe tbody tr th {\n",
       "        vertical-align: top;\n",
       "    }\n",
       "</style>\n",
       "<table border=\"1\" class=\"dataframe\">\n",
       "  <thead>\n",
       "    <tr style=\"text-align: right;\">\n",
       "      <th></th>\n",
       "      <th>Date</th>\n",
       "      <th>VisitorPoints</th>\n",
       "      <th>VisitorTeam</th>\n",
       "      <th>HomeTeam</th>\n",
       "      <th>HomePoints</th>\n",
       "      <th>Winner</th>\n",
       "    </tr>\n",
       "  </thead>\n",
       "  <tbody>\n",
       "    <tr>\n",
       "      <th>213</th>\n",
       "      <td>2018-11-15</td>\n",
       "      <td>86</td>\n",
       "      <td>Golden State Warriors</td>\n",
       "      <td>Houston Rockets</td>\n",
       "      <td>107</td>\n",
       "      <td>Houston Rockets</td>\n",
       "    </tr>\n",
       "  </tbody>\n",
       "</table>\n",
       "</div>"
      ],
      "text/plain": [
       "          Date  VisitorPoints            VisitorTeam         HomeTeam  \\\n",
       "213 2018-11-15             86  Golden State Warriors  Houston Rockets   \n",
       "\n",
       "     HomePoints           Winner  \n",
       "213         107  Houston Rockets  "
      ]
     },
     "execution_count": 10,
     "metadata": {},
     "output_type": "execute_result"
    }
   ],
   "source": [
    "previous_matchups"
   ]
  },
  {
   "cell_type": "code",
   "execution_count": 11,
   "metadata": {
    "collapsed": true,
    "extensions": {
     "jupyter_dashboards": {
      "version": 1,
      "views": {
       "grid_default": {
        "hidden": true
       },
       "report_default": {
        "hidden": true
       }
      }
     }
    }
   },
   "outputs": [],
   "source": [
    "matchup_data = {\n",
    "    'HomeTeamRanksHigher': [(results_df.loc[home_team.value]['Rk'] < results_df.loc[away_team.value]['Rk'])],\n",
    "    'HomeTeamPTSHigher': [results_df.loc[home_team.value]['PPG'] > results_df.loc[away_team.value]['PPG']],\n",
    "    'HomeTeamFG%Higher': [(results_df.loc[home_team.value]['FG%'] > results_df.loc[away_team.value]['FG%'])],\n",
    "    'HomeTeamAssistTurnOverRatioHigher': [(results_df.loc[home_team.value]['AssistTurnoverRatio'] > results_df.loc[away_team.value]['AssistTurnoverRatio'])],\n",
    "    'HomeTeam3P%Higher': [(results_df.loc[home_team.value]['3P%'] > results_df.loc[away_team.value]['3P%'])]\n",
    "}\n",
    "                 \n",
    "predictions_X = pd.DataFrame(data=matchup_data)"
   ]
  },
  {
   "cell_type": "markdown",
   "metadata": {
    "extensions": {
     "jupyter_dashboards": {
      "version": 1,
      "views": {
       "grid_default": {
        "col": 0,
        "height": 4,
        "hidden": false,
        "row": 12,
        "width": 4
       },
       "report_default": {
        "hidden": false
       }
      }
     }
    }
   },
   "source": [
    "## Team Wins and Losses By Month"
   ]
  },
  {
   "cell_type": "code",
   "execution_count": 12,
   "metadata": {
    "extensions": {
     "jupyter_dashboards": {
      "version": 1,
      "views": {
       "grid_default": {
        "col": 4,
        "height": 6,
        "hidden": false,
        "row": 8,
        "width": 4
       },
       "report_default": {
        "hidden": false
       }
      }
     }
    }
   },
   "outputs": [
    {
     "data": {
      "text/markdown": [
       "Data Showing wins and losses graphed by month but not a factor in prediction"
      ],
      "text/plain": [
       "<IPython.core.display.Markdown object>"
      ]
     },
     "metadata": {},
     "output_type": "display_data"
    },
    {
     "data": {
      "image/png": "[encoded data removed]",
      "text/plain": [
       "<matplotlib.figure.Figure at 0x1a0c9f49e8>"
      ]
     },
     "metadata": {},
     "output_type": "display_data"
    }
   ],
   "source": [
    "fig, ax = plt.subplots(1,2, figsize=(10,4))  # 1 row, 2 columns\n",
    "\n",
    "home_team_history = box_scores_df.loc[box_scores_df['HomeTeam'].isin({home_team.value}) | box_scores_df['VisitorTeam'].isin({home_team.value})]\n",
    "x = home_team_history['Date'].groupby([home_team_history.Date.dt.month, home_team_history.HomeWins]).agg('count')\n",
    "x.unstack().plot(kind='bar', stacked=False, color=['salmon', 'green'], ax=ax[0])  \n",
    "plt.title(home_team.value + \" Break Down\") # This seems to be identical to ax.set_title\n",
    "ax[0].set_title(home_team.value + \" Win/Loss Break Down\")\n",
    "ax[0].legend([\"Losses\", \"Wins\"]);\n",
    "ax[0].set_ylim(0,15)\n",
    "\n",
    "away_team_history = box_scores_df.loc[box_scores_df['HomeTeam'].isin({away_team.value}) | box_scores_df['VisitorTeam'].isin({away_team.value})]\n",
    "y = away_team_history['Date'].groupby([away_team_history.Date.dt.month, away_team_history.HomeWins]).agg('count')\n",
    "y.unstack().plot(kind='bar', stacked=False, color=['salmon', 'green'],ax=ax[1])  \n",
    "ax[1].set_title(away_team.value + \" Win/Loss Break Down\")\n",
    "ax[1].legend([\"Losses\", \"Wins\"]);\n",
    "ax[1].set_ylim(0,15)\n",
    "printmd('Data Showing wins and losses graphed by month but not a factor in prediction')\n",
    "plt.tight_layout()\n",
    "plt.show()\n",
    "\n",
    "\n"
   ]
  },
  {
   "cell_type": "markdown",
   "metadata": {
    "extensions": {
     "jupyter_dashboards": {
      "version": 1,
      "views": {
       "grid_default": {
        "col": 4,
        "height": 4,
        "hidden": false,
        "row": 14,
        "width": 4
       },
       "report_default": {
        "hidden": false
       }
      }
     }
    }
   },
   "source": [
    "## <center>Game Win Prediction</center>\n"
   ]
  },
  {
   "cell_type": "code",
   "execution_count": 13,
   "metadata": {
    "collapsed": true,
    "extensions": {
     "jupyter_dashboards": {
      "version": 1,
      "views": {
       "grid_default": {
        "hidden": true
       },
       "report_default": {
        "hidden": true
       }
      }
     }
    }
   },
   "outputs": [],
   "source": [
    "#Getting all stats for predictions\n",
    "\n",
    "box_scores_df['HomeTeamRanksHigher'] = box_scores_df.apply(home_team_rankings_higher, axis = 1)\n",
    "box_scores_df['HomeTeamFG%Higher'] = box_scores_df.apply(home_team_field_goal_percent_higher, args=('FG%',) ,axis = 1)\n",
    "box_scores_df['HomeTeam3P%Higher'] = box_scores_df.apply(home_team_field_goal_percent_higher, args=('3P%',) ,axis = 1)\n",
    "box_scores_df['HomeTeamPTSHigher'] = box_scores_df.apply(home_team_field_goal_percent_higher, args=('PTS',) ,axis = 1)\n",
    "box_scores_df['HomeTeamAssistTurnOverRatioHigher'] = box_scores_df.apply(home_team_per_assist_turnover_ratio_higher, axis = 1)\n",
    "\n",
    "#This gets the Away Team and if they had a back to back away Game\n",
    "#Line commented below can be used later to get the number of days of rest\n",
    "#df['VisitorRest'] =  df.groupby(['VisitorTeam'])['Date'].diff() - timedelta(days=1) \n",
    "visitor_rest_holder = box_scores_df.groupby(['VisitorTeam'])['Date'].diff() - timedelta(days=1)  == timedelta(days=0)\n",
    "box_scores_df['VisitorBackToBack'] = visitor_rest_holder\n"
   ]
  },
  {
   "cell_type": "code",
   "execution_count": 14,
   "metadata": {
    "collapsed": true,
    "extensions": {
     "jupyter_dashboards": {
      "version": 1,
      "views": {
       "grid_default": {
        "hidden": true
       },
       "report_default": {
        "hidden": true
       }
      }
     }
    }
   },
   "outputs": [],
   "source": [
    "#This is the predictor variable \n",
    "#RENAME THIS\n",
    "X_features = box_scores_df[['HomeTeamRanksHigher', 'HomeTeamPTSHigher','HomeTeamFG%Higher', 'HomeTeamAssistTurnOverRatioHigher','HomeTeam3P%Higher']]\n"
   ]
  },
  {
   "cell_type": "code",
   "execution_count": 15,
   "metadata": {
    "extensions": {
     "jupyter_dashboards": {
      "version": 1,
      "views": {
       "grid_default": {
        "hidden": true
       },
       "report_default": {
        "hidden": true
       }
      }
     }
    }
   },
   "outputs": [
    {
     "name": "stdout",
     "output_type": "stream",
     "text": [
      "0.669230671495\n"
     ]
    }
   ],
   "source": [
    "strat_k_fold = StratifiedKFold(n_splits=10, random_state=10)\n",
    "\n",
    "# Specify parameters\n",
    "c_values = list(np.arange(1, 10))\n",
    "param_grid = [\n",
    "    {'C': c_values, 'penalty': ['l1'], 'solver' : ['liblinear'], 'multi_class' : ['ovr']},\n",
    "    {'C': c_values, 'penalty': ['l2'], 'solver' : ['liblinear', 'newton-cg', 'lbfgs'], 'multi_class' : ['ovr']}\n",
    "]\n",
    "\n",
    "grid = GridSearchCV(LogisticRegression(), param_grid, cv=strat_k_fold, scoring='accuracy', iid=False)\n",
    "grid.fit(X_features, y_true)\n",
    "print(grid.best_score_)"
   ]
  },
  {
   "cell_type": "code",
   "execution_count": 16,
   "metadata": {
    "collapsed": true,
    "extensions": {
     "jupyter_dashboards": {
      "version": 1,
      "views": {
       "grid_default": {
        "hidden": true
       },
       "report_default": {
        "hidden": true
       }
      }
     }
    }
   },
   "outputs": [],
   "source": [
    "result = grid.predict(predictions_X)"
   ]
  },
  {
   "cell_type": "code",
   "execution_count": 17,
   "metadata": {
    "extensions": {
     "jupyter_dashboards": {
      "version": 1,
      "views": {
       "grid_default": {
        "hidden": true
       },
       "report_default": {
        "hidden": false
       }
      }
     }
    }
   },
   "outputs": [
    {
     "data": {
      "text/markdown": [
       "<h2 style=\"color:Red;\"><center>Winner of Game --- Golden State Warriors</center></h2>"
      ],
      "text/plain": [
       "<IPython.core.display.Markdown object>"
      ]
     },
     "metadata": {},
     "output_type": "display_data"
    }
   ],
   "source": [
    "winning_team = winning_team_prediction(result[0])\n",
    "printmd('<h2 style=\"color:Red;\"><center>Winner of Game --- {}</center></h2>'.format(winning_team_prediction(result[0])))\n"
   ]
  }
 ],
 "metadata": {
  "extensions": {
   "jupyter_dashboards": {
    "activeView": "report_default",
    "version": 1,
    "views": {
     "grid_default": {
      "cellMargin": 10,
      "defaultCellHeight": 20,
      "maxColumns": 12,
      "name": "grid",
      "type": "grid"
     },
     "report_default": {
      "name": "report",
      "type": "report"
     }
    }
   }
  },
  "kernelspec": {
   "display_name": "Python 3",
   "language": "python",
   "name": "python3"
  },
  "language_info": {
   "codemirror_mode": {
    "name": "ipython",
    "version": 3
   },
   "file_extension": ".py",
   "mimetype": "text/x-python",
   "name": "python",
   "nbconvert_exporter": "python",
   "pygments_lexer": "ipython3",
   "version": "3.6.3"
  },
  "widgets": {
   "application/vnd.jupyter.widget-state+json": {
    "state": {
     "02e9adeec3f043799ea9ace270aff509": {
      "model_module": "@jupyter-widgets/base",
      "model_module_version": "1.0.0",
      "model_name": "LayoutModel",
      "state": {}
     },
     "04a9c8cd40c04cf4b96fa2f9f79e6f21": {
      "model_module": "@jupyter-widgets/controls",
      "model_module_version": "1.0.0",
      "model_name": "DescriptionStyleModel",
      "state": {
       "description_width": ""
      }
     },
     "04bdec4b786d4d5e9ffee15e1153db2a": {
      "model_module": "@jupyter-widgets/base",
      "model_module_version": "1.0.0",
      "model_name": "LayoutModel",
      "state": {}
     },
     "092f47ac78ba40a28106b33548eafc4a": {
      "model_module": "@jupyter-widgets/controls",
      "model_module_version": "1.0.0",
      "model_name": "DescriptionStyleModel",
      "state": {
       "description_width": ""
      }
     },
     "13f9895b140b40eea947d7727c6452b5": {
      "model_module": "@jupyter-widgets/controls",
      "model_module_version": "1.0.0",
      "model_name": "ButtonStyleModel",
      "state": {}
     },
     "33e813c5014f4aa59e730a67fa468b12": {
      "model_module": "@jupyter-widgets/controls",
      "model_module_version": "1.0.0",
      "model_name": "DropdownModel",
      "state": {
       "_options_labels": [
        "Golden State Warriors",
        "Philadelphia 76ers",
        "Toronto Raptors",
        "New Orleans Pelicans",
        "Sacramento Kings",
        "Brooklyn Nets",
        "Los Angeles Lakers",
        "Milwaukee Bucks",
        "Washington Wizards",
        "Los Angeles Clippers",
        "San Antonio Spurs",
        "Portland Trail Blazers",
        "New York Knicks",
        "Utah Jazz",
        "Boston Celtics",
        "Minnesota Timberwolves",
        "Charlotte Hornets",
        "Indiana Pacers",
        "Houston Rockets",
        "Oklahoma City Thunder",
        "Phoenix Suns",
        "Dallas Mavericks",
        "Atlanta Hawks",
        "Cleveland Cavaliers",
        "Chicago Bulls",
        "Denver Nuggets",
        "Miami Heat",
        "Detroit Pistons",
        "Memphis Grizzlies",
        "Orlando Magic",
        "League Average"
       ],
       "description": "Away Team:",
       "index": 0,
       "layout": "IPY_MODEL_04bdec4b786d4d5e9ffee15e1153db2a",
       "style": "IPY_MODEL_c0eb8030cecd4520a3a128b3d3fa9636"
      }
     },
     "3b5af7912b8944f89df062319c70958d": {
      "model_module": "@jupyter-widgets/base",
      "model_module_version": "1.0.0",
      "model_name": "LayoutModel",
      "state": {}
     },
     "408a1b1142fd478d8724f44a901c07fd": {
      "model_module": "@jupyter-widgets/controls",
      "model_module_version": "1.0.0",
      "model_name": "ButtonModel",
      "state": {
       "description": "Run Predictions",
       "layout": "IPY_MODEL_02e9adeec3f043799ea9ace270aff509",
       "style": "IPY_MODEL_7cf8b652286943c38607553f05b980e8"
      }
     },
     "537ec9f73bb842b0be5b10b610c5669f": {
      "model_module": "@jupyter-widgets/controls",
      "model_module_version": "1.0.0",
      "model_name": "DescriptionStyleModel",
      "state": {
       "description_width": ""
      }
     },
     "63c1d177b08d4625a8d80a2fdbf8515d": {
      "model_module": "@jupyter-widgets/base",
      "model_module_version": "1.0.0",
      "model_name": "LayoutModel",
      "state": {}
     },
     "7ab8ddbf4d5144a9adf7b9ee237fdf6e": {
      "model_module": "@jupyter-widgets/base",
      "model_module_version": "1.0.0",
      "model_name": "LayoutModel",
      "state": {}
     },
     "7cf8b652286943c38607553f05b980e8": {
      "model_module": "@jupyter-widgets/controls",
      "model_module_version": "1.0.0",
      "model_name": "ButtonStyleModel",
      "state": {}
     },
     "8c5c53ca69e84407ad3c57e5a2c9e9c2": {
      "model_module": "@jupyter-widgets/base",
      "model_module_version": "1.0.0",
      "model_name": "LayoutModel",
      "state": {}
     },
     "9d96d8e4c3034441b3d2b9bbbf701b48": {
      "model_module": "@jupyter-widgets/controls",
      "model_module_version": "1.0.0",
      "model_name": "DropdownModel",
      "state": {
       "_options_labels": [
        "Golden State Warriors",
        "Philadelphia 76ers",
        "Toronto Raptors",
        "New Orleans Pelicans",
        "Sacramento Kings",
        "Brooklyn Nets",
        "Los Angeles Lakers",
        "Milwaukee Bucks",
        "Washington Wizards",
        "Los Angeles Clippers",
        "San Antonio Spurs",
        "Portland Trail Blazers",
        "New York Knicks",
        "Utah Jazz",
        "Boston Celtics",
        "Minnesota Timberwolves",
        "Charlotte Hornets",
        "Indiana Pacers",
        "Houston Rockets",
        "Oklahoma City Thunder",
        "Phoenix Suns",
        "Dallas Mavericks",
        "Atlanta Hawks",
        "Cleveland Cavaliers",
        "Chicago Bulls",
        "Denver Nuggets",
        "Miami Heat",
        "Detroit Pistons",
        "Memphis Grizzlies",
        "Orlando Magic",
        "League Average"
       ],
       "description": "Away Team:",
       "index": 2,
       "layout": "IPY_MODEL_8c5c53ca69e84407ad3c57e5a2c9e9c2",
       "style": "IPY_MODEL_f35b8e8953524bd081ec0b3d32c29379"
      }
     },
     "a075657978c746dd958c083937bddf9f": {
      "model_module": "@jupyter-widgets/base",
      "model_module_version": "1.0.0",
      "model_name": "LayoutModel",
      "state": {}
     },
     "ab220915b7854f7aa12c0e08cb5e7640": {
      "model_module": "@jupyter-widgets/controls",
      "model_module_version": "1.0.0",
      "model_name": "DescriptionStyleModel",
      "state": {
       "description_width": ""
      }
     },
     "b2310d3f57d3424490c1e8dcc24dea12": {
      "model_module": "@jupyter-widgets/controls",
      "model_module_version": "1.0.0",
      "model_name": "DropdownModel",
      "state": {
       "_options_labels": [
        "Golden State Warriors",
        "Philadelphia 76ers",
        "Toronto Raptors",
        "New Orleans Pelicans",
        "Sacramento Kings",
        "Brooklyn Nets",
        "Los Angeles Lakers",
        "Milwaukee Bucks",
        "Washington Wizards",
        "Los Angeles Clippers",
        "San Antonio Spurs",
        "Portland Trail Blazers",
        "New York Knicks",
        "Utah Jazz",
        "Boston Celtics",
        "Minnesota Timberwolves",
        "Charlotte Hornets",
        "Indiana Pacers",
        "Houston Rockets",
        "Oklahoma City Thunder",
        "Phoenix Suns",
        "Dallas Mavericks",
        "Atlanta Hawks",
        "Cleveland Cavaliers",
        "Chicago Bulls",
        "Denver Nuggets",
        "Miami Heat",
        "Detroit Pistons",
        "Memphis Grizzlies",
        "Orlando Magic",
        "League Average"
       ],
       "description": "Away Team:",
       "index": 0,
       "layout": "IPY_MODEL_a075657978c746dd958c083937bddf9f",
       "style": "IPY_MODEL_ab220915b7854f7aa12c0e08cb5e7640"
      }
     },
     "b5852d0084d44655acc54af1e49791fb": {
      "model_module": "@jupyter-widgets/controls",
      "model_module_version": "1.0.0",
      "model_name": "ButtonModel",
      "state": {
       "description": "Run Predictions",
       "layout": "IPY_MODEL_f9cfc4130a594f5d881be77da89f9479",
       "style": "IPY_MODEL_13f9895b140b40eea947d7727c6452b5"
      }
     },
     "c0eb8030cecd4520a3a128b3d3fa9636": {
      "model_module": "@jupyter-widgets/controls",
      "model_module_version": "1.0.0",
      "model_name": "DescriptionStyleModel",
      "state": {
       "description_width": ""
      }
     },
     "c5df93b2b27c40e9a0776ce6c72332c4": {
      "model_module": "@jupyter-widgets/controls",
      "model_module_version": "1.0.0",
      "model_name": "DropdownModel",
      "state": {
       "_options_labels": [
        "Golden State Warriors",
        "Philadelphia 76ers",
        "Toronto Raptors",
        "New Orleans Pelicans",
        "Sacramento Kings",
        "Brooklyn Nets",
        "Los Angeles Lakers",
        "Milwaukee Bucks",
        "Washington Wizards",
        "Los Angeles Clippers",
        "San Antonio Spurs",
        "Portland Trail Blazers",
        "New York Knicks",
        "Utah Jazz",
        "Boston Celtics",
        "Minnesota Timberwolves",
        "Charlotte Hornets",
        "Indiana Pacers",
        "Houston Rockets",
        "Oklahoma City Thunder",
        "Phoenix Suns",
        "Dallas Mavericks",
        "Atlanta Hawks",
        "Cleveland Cavaliers",
        "Chicago Bulls",
        "Denver Nuggets",
        "Miami Heat",
        "Detroit Pistons",
        "Memphis Grizzlies",
        "Orlando Magic",
        "League Average"
       ],
       "description": "Home Team:",
       "index": 18,
       "layout": "IPY_MODEL_3b5af7912b8944f89df062319c70958d",
       "style": "IPY_MODEL_04a9c8cd40c04cf4b96fa2f9f79e6f21"
      }
     },
     "d44b551bdcf143c084ba95af29cdc41d": {
      "model_module": "@jupyter-widgets/controls",
      "model_module_version": "1.0.0",
      "model_name": "ButtonStyleModel",
      "state": {}
     },
     "e161bc3ac0a446c3a02f3776dd6017d9": {
      "model_module": "@jupyter-widgets/controls",
      "model_module_version": "1.0.0",
      "model_name": "DropdownModel",
      "state": {
       "_options_labels": [
        "Golden State Warriors",
        "Philadelphia 76ers",
        "Toronto Raptors",
        "New Orleans Pelicans",
        "Sacramento Kings",
        "Brooklyn Nets",
        "Los Angeles Lakers",
        "Milwaukee Bucks",
        "Washington Wizards",
        "Los Angeles Clippers",
        "San Antonio Spurs",
        "Portland Trail Blazers",
        "New York Knicks",
        "Utah Jazz",
        "Boston Celtics",
        "Minnesota Timberwolves",
        "Charlotte Hornets",
        "Indiana Pacers",
        "Houston Rockets",
        "Oklahoma City Thunder",
        "Phoenix Suns",
        "Dallas Mavericks",
        "Atlanta Hawks",
        "Cleveland Cavaliers",
        "Chicago Bulls",
        "Denver Nuggets",
        "Miami Heat",
        "Detroit Pistons",
        "Memphis Grizzlies",
        "Orlando Magic",
        "League Average"
       ],
       "description": "Home Team:",
       "index": 12,
       "layout": "IPY_MODEL_63c1d177b08d4625a8d80a2fdbf8515d",
       "style": "IPY_MODEL_092f47ac78ba40a28106b33548eafc4a"
      }
     },
     "e2aa524f029a405f97635b2f431e95f0": {
      "model_module": "@jupyter-widgets/controls",
      "model_module_version": "1.0.0",
      "model_name": "DropdownModel",
      "state": {
       "_options_labels": [
        "Golden State Warriors",
        "Philadelphia 76ers",
        "Toronto Raptors",
        "New Orleans Pelicans",
        "Sacramento Kings",
        "Brooklyn Nets",
        "Los Angeles Lakers",
        "Milwaukee Bucks",
        "Washington Wizards",
        "Los Angeles Clippers",
        "San Antonio Spurs",
        "Portland Trail Blazers",
        "New York Knicks",
        "Utah Jazz",
        "Boston Celtics",
        "Minnesota Timberwolves",
        "Charlotte Hornets",
        "Indiana Pacers",
        "Houston Rockets",
        "Oklahoma City Thunder",
        "Phoenix Suns",
        "Dallas Mavericks",
        "Atlanta Hawks",
        "Cleveland Cavaliers",
        "Chicago Bulls",
        "Denver Nuggets",
        "Miami Heat",
        "Detroit Pistons",
        "Memphis Grizzlies",
        "Orlando Magic",
        "League Average"
       ],
       "description": "Home Team:",
       "index": 18,
       "layout": "IPY_MODEL_7ab8ddbf4d5144a9adf7b9ee237fdf6e",
       "style": "IPY_MODEL_537ec9f73bb842b0be5b10b610c5669f"
      }
     },
     "e5400d5a35b04fc7b60d9837f2725740": {
      "model_module": "@jupyter-widgets/base",
      "model_module_version": "1.0.0",
      "model_name": "LayoutModel",
      "state": {}
     },
     "ecc906ed887a41d9a9d8bf2c77003dc9": {
      "model_module": "@jupyter-widgets/controls",
      "model_module_version": "1.0.0",
      "model_name": "ButtonModel",
      "state": {
       "description": "Run Predictions",
       "layout": "IPY_MODEL_e5400d5a35b04fc7b60d9837f2725740",
       "style": "IPY_MODEL_d44b551bdcf143c084ba95af29cdc41d"
      }
     },
     "f35b8e8953524bd081ec0b3d32c29379": {
      "model_module": "@jupyter-widgets/controls",
      "model_module_version": "1.0.0",
      "model_name": "DescriptionStyleModel",
      "state": {
       "description_width": ""
      }
     },
     "f9cfc4130a594f5d881be77da89f9479": {
      "model_module": "@jupyter-widgets/base",
      "model_module_version": "1.0.0",
      "model_name": "LayoutModel",
      "state": {}
     }
    },
    "version_major": 2,
    "version_minor": 0
   }
  }
 },
 "nbformat": 4,
 "nbformat_minor": 2
}
