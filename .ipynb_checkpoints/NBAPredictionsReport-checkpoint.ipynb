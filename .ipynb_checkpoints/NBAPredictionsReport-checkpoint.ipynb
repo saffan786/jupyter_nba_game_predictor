{
 "cells": [
  {
   "cell_type": "markdown",
   "metadata": {
    "extensions": {
     "jupyter_dashboards": {
      "version": 1,
      "views": {
       "grid_default": {
        "col": 3,
        "height": 4,
        "hidden": false,
        "row": 0,
        "width": 4
       },
       "report_default": {
        "hidden": false
       }
      }
     }
    }
   },
   "source": [
    "# <center>NBA Outcome Predictor</center>"
   ]
  },
  {
   "cell_type": "markdown",
   "metadata": {
    "extensions": {
     "jupyter_dashboards": {
      "version": 1,
      "views": {
       "grid_default": {
        "col": 3,
        "height": 4,
        "hidden": false,
        "row": 4,
        "width": 4
       },
       "report_default": {
        "hidden": false
       }
      }
     }
    }
   },
   "source": [
    "## Choose your match up"
   ]
  },
  {
   "cell_type": "code",
   "execution_count": null,
   "metadata": {
    "collapsed": true,
    "extensions": {
     "jupyter_dashboards": {
      "version": 1,
      "views": {
       "grid_default": {
        "hidden": true
       },
       "report_default": {
        "hidden": true
       }
      }
     }
    }
   },
   "outputs": [],
   "source": [
    "#Import Everything here \n",
    "from ipywidgets import widgets\n",
    "import pandas as pd\n",
    "import matplotlib.pyplot as plt\n",
    "import numpy as np\n",
    "import seaborn as sns\n",
    "import ipython_blocking\n",
    "from sklearn.linear_model import LogisticRegression\n",
    "from sklearn.model_selection import GridSearchCV\n",
    "from sklearn.model_selection import StratifiedKFold\n",
    "from datetime import datetime, timedelta\n",
    "from IPython.display import  Markdown, Javascript, display\n",
    "from ipywidgets import widgets\n",
    "\n",
    "plt.style.use('ggplot')\n",
    "ipython_blocking.load_ipython_extensions()\n"
   ]
  },
  {
   "cell_type": "code",
   "execution_count": null,
   "metadata": {
    "collapsed": true,
    "extensions": {
     "jupyter_dashboards": {
      "version": 1,
      "views": {
       "grid_default": {
        "hidden": true
       },
       "report_default": {
        "hidden": true
       }
      }
     }
    }
   },
   "outputs": [],
   "source": [
    "#All Functions in this block\n",
    "def prediction_model_run(b):\n",
    "    display(Javascript('IPython.notebook.execute_cells_below()'))\n",
    "\n",
    "def printmd(string):\n",
    "    display(Markdown(string))\n",
    "    \n",
    "def name_winning_team(row):\n",
    "    if(row.VisitorPoints > row.HomePoints):\n",
    "        return row['VisitorTeam']\n",
    "    else:\n",
    "        return row['HomeTeam']\n",
    "    \n",
    "def winning_team_prediction(x):\n",
    "    if(x):\n",
    "        return home_team.value\n",
    "    else:\n",
    "        return away_team.value\n",
    "\n",
    "    \n",
    "#This method below finds the rankings of the visitor team and the home team and visitor team\n",
    "#and sets the row to true if home team ranks higher else false.\n",
    "def home_team_rankings_higher(row):\n",
    "    home_team  = row['HomeTeam']\n",
    "    visitor_team = row['VisitorTeam']\n",
    "    home_rank = rankings_df.loc[home_team]['Rk']\n",
    "    visitor_rank = rankings_df.loc[visitor_team]['Rk']\n",
    "    return home_rank < visitor_rank #the lower the rank the higher you are thats why hometeam < visitor\n",
    "\n",
    "    \n",
    "#This method below finds teams per game stats that is still in the works like FG%, 3P%, Assist\n",
    "#And Compares them to the opponents and if its higher then it will be true else false\n",
    "def home_team_field_goal_percent_higher(row, column_name):\n",
    "    home_team  = row['HomeTeam']\n",
    "    visitor_team = row['VisitorTeam']\n",
    "    home_fg_percentage = team_per_game_stats_df.loc[home_team][column_name]\n",
    "    visitor_fg_percentage = team_per_game_stats_df.loc[visitor_team][column_name]\n",
    "    return home_fg_percentage > visitor_fg_percentage\n",
    "\n",
    "\n",
    "def home_team_per_assist_turnover_ratio_higher(row):\n",
    "    home_team  = row['HomeTeam']\n",
    "    visitor_team = row['VisitorTeam']\n",
    "    home_assist_turnover_ratio = team_per_game_stats_df.loc[home_team]['AST'] / team_per_game_stats_df.loc[home_team]['TOV']\n",
    "    visitor_assist_turnover_ratio = team_per_game_stats_df.loc[visitor_team]['AST'] / team_per_game_stats_df.loc[visitor_team]['TOV']\n",
    "    return home_assist_turnover_ratio > visitor_assist_turnover_ratio \n"
   ]
  },
  {
   "cell_type": "code",
   "execution_count": null,
   "metadata": {
    "collapsed": true,
    "extensions": {
     "jupyter_dashboards": {
      "version": 1,
      "views": {
       "grid_default": {
        "hidden": true
       },
       "report_default": {
        "hidden": true
       }
      }
     }
    }
   },
   "outputs": [],
   "source": [
    "#Getting All the Files we need to make predictions\n",
    "\n",
    "#This fixes the date to be in the correct format while reading the file in\n",
    "box_scores_df = pd.read_csv('data/2018_2019BoxScores.csv', parse_dates=['Date'])\n",
    "\n",
    "#This grabs the files for other stats for teams\n",
    "rankings_df = pd.read_csv('data/NBAExpandedStandings2018_2019.csv', skiprows=[0], index_col='Team')\n",
    "team_per_game_stats_df = pd.read_csv('data/TeamPerGameStats2018_2019.csv', index_col='Team')\n",
    "\n",
    "\n",
    "#Renaming Columns to have them make more sense \n",
    "box_scores_df.columns = ['Date', 'StartTime', 'VisitorTeam', 'VisitorPoints',\n",
    "              'HomeTeam', 'HomePoints', 'ScoreType', 'OT', 'Attendance','Notes']\n",
    "\n",
    "#Getting basic true false if home team won or lost\n",
    "box_scores_df['HomeWins'] = box_scores_df['HomePoints'] > box_scores_df['VisitorPoints']\n",
    "y_true = box_scores_df['HomeWins'].values\n",
    "\n"
   ]
  },
  {
   "cell_type": "code",
   "execution_count": null,
   "metadata": {
    "collapsed": true,
    "extensions": {
     "jupyter_dashboards": {
      "version": 1,
      "views": {
       "grid_default": {
        "hidden": true
       },
       "report_default": {
        "hidden": false
       }
      }
     }
    }
   },
   "outputs": [],
   "source": [
    "away_team = widgets.Dropdown(\n",
    "    options = list(team_per_game_stats_df.index.values),\n",
    "    description='Away Team:',\n",
    "    value='Golden State Warriors',\n",
    "    disabled=False,\n",
    ")\n",
    "\n",
    "home_team = widgets.Dropdown(\n",
    "    options= list(team_per_game_stats_df.index.values),\n",
    "    description='Home Team:',\n",
    "    value='Houston Rockets',\n",
    "    disabled=False,\n",
    ")\n",
    "\n",
    "run_prediction = widgets.Button(description='Run Predictions')\n",
    "\n"
   ]
  },
  {
   "cell_type": "code",
   "execution_count": null,
   "metadata": {
    "extensions": {
     "jupyter_dashboards": {
      "version": 1,
      "views": {
       "grid_default": {},
       "report_default": {
        "hidden": false
       }
      }
     }
    }
   },
   "outputs": [],
   "source": [
    "display(home_team)\n",
    "display(away_team)\n",
    "display(run_prediction)\n",
    "\n",
    "run_prediction.on_click(prediction_model_run)\n"
   ]
  },
  {
   "cell_type": "code",
   "execution_count": null,
   "metadata": {
    "collapsed": true,
    "extensions": {
     "jupyter_dashboards": {
      "version": 1,
      "views": {
       "grid_default": {
        "hidden": true
       },
       "report_default": {
        "hidden": true
       }
      }
     }
    }
   },
   "outputs": [],
   "source": [
    "#%block run_prediction"
   ]
  },
  {
   "cell_type": "code",
   "execution_count": null,
   "metadata": {
    "collapsed": true,
    "extensions": {
     "jupyter_dashboards": {
      "version": 1,
      "views": {
       "grid_default": {
        "hidden": true
       },
       "report_default": {
        "hidden": true
       }
      }
     }
    }
   },
   "outputs": [],
   "source": [
    "d = {'Rk': [rankings_df.loc[home_team.value]['Rk'], rankings_df.loc[away_team.value]['Rk']],\n",
    "     'FG%': [team_per_game_stats_df.loc[home_team.value]['FG%'], team_per_game_stats_df.loc[away_team.value]['FG%']],\n",
    "     '3P%': [team_per_game_stats_df.loc[home_team.value]['3P%'], team_per_game_stats_df.loc[away_team.value]['3P%']],\n",
    "     'PPG': [team_per_game_stats_df.loc[home_team.value]['PTS'], team_per_game_stats_df.loc[away_team.value]['PTS']],\n",
    "     'AssistTurnoverRatio' : [team_per_game_stats_df.loc[home_team.value]['AST'] / team_per_game_stats_df.loc[home_team.value]['TOV'], team_per_game_stats_df.loc[away_team.value]['AST'] / team_per_game_stats_df.loc[away_team.value]['TOV']],\n",
    "    }\n",
    "\n",
    "results_df = pd.DataFrame(data=d, index=[home_team.value, away_team.value])"
   ]
  },
  {
   "cell_type": "markdown",
   "metadata": {
    "extensions": {
     "jupyter_dashboards": {
      "version": 1,
      "views": {
       "grid_default": {
        "col": 8,
        "height": 4,
        "hidden": false,
        "row": 0,
        "width": 4
       },
       "report_default": {
        "hidden": false
       }
      }
     }
    }
   },
   "source": [
    "## Team Comparisons\n"
   ]
  },
  {
   "cell_type": "code",
   "execution_count": null,
   "metadata": {
    "extensions": {
     "jupyter_dashboards": {
      "version": 1,
      "views": {
       "grid_default": {
        "hidden": true
       },
       "report_default": {
        "hidden": false
       }
      }
     }
    }
   },
   "outputs": [],
   "source": [
    "if home_team.value != away_team.value :\n",
    "    printmd('Factors used to Predict Outcome')\n",
    "    display(results_df.style\\\n",
    "    .highlight_max(subset=['3P%','AssistTurnoverRatio','FG%','PPG'] , color='lightgreen')\\\n",
    "    .highlight_min(subset=['Rk'], color='lightgreen'))"
   ]
  },
  {
   "cell_type": "markdown",
   "metadata": {
    "extensions": {
     "jupyter_dashboards": {
      "version": 1,
      "views": {
       "grid_default": {
        "col": 0,
        "height": 4,
        "hidden": false,
        "row": 8,
        "width": 4
       },
       "report_default": {
        "hidden": false
       }
      }
     }
    }
   },
   "source": [
    "## Previous Game Results"
   ]
  },
  {
   "cell_type": "code",
   "execution_count": null,
   "metadata": {
    "collapsed": true,
    "extensions": {
     "jupyter_dashboards": {
      "version": 1,
      "views": {
       "grid_default": {
        "hidden": true
       },
       "report_default": {
        "hidden": true
       }
      }
     }
    }
   },
   "outputs": [],
   "source": [
    "previous_matchups = box_scores_df.loc[box_scores_df['HomeTeam'].isin({home_team.value,away_team.value}) \n",
    "                  & box_scores_df['VisitorTeam'].isin({home_team.value,away_team.value})]\n",
    "\n",
    "previous_matchups = previous_matchups[['Date','VisitorPoints', 'VisitorTeam','HomeTeam', 'HomePoints']]\n",
    "if(len(previous_matchups) > 0):\n",
    "    previous_matchups['Winner'] = previous_matchups.apply(name_winning_team, axis = 1)\n"
   ]
  },
  {
   "cell_type": "code",
   "execution_count": null,
   "metadata": {
    "extensions": {
     "jupyter_dashboards": {
      "version": 1,
      "views": {
       "grid_default": {
        "hidden": true
       },
       "report_default": {
        "hidden": false
       }
      }
     }
    }
   },
   "outputs": [],
   "source": [
    "previous_matchups"
   ]
  },
  {
   "cell_type": "code",
   "execution_count": null,
   "metadata": {
    "collapsed": true,
    "extensions": {
     "jupyter_dashboards": {
      "version": 1,
      "views": {
       "grid_default": {
        "hidden": true
       },
       "report_default": {
        "hidden": true
       }
      }
     }
    }
   },
   "outputs": [],
   "source": [
    "matchup_data = {\n",
    "    'HomeTeamRanksHigher': [(results_df.loc[home_team.value]['Rk'] < results_df.loc[away_team.value]['Rk'])],\n",
    "    'HomeTeamPTSHigher': [results_df.loc[home_team.value]['PPG'] > results_df.loc[away_team.value]['PPG']],\n",
    "    'HomeTeamFG%Higher': [(results_df.loc[home_team.value]['FG%'] > results_df.loc[away_team.value]['FG%'])],\n",
    "    'HomeTeamAssistTurnOverRatioHigher': [(results_df.loc[home_team.value]['AssistTurnoverRatio'] > results_df.loc[away_team.value]['AssistTurnoverRatio'])],\n",
    "    'HomeTeam3P%Higher': [(results_df.loc[home_team.value]['3P%'] > results_df.loc[away_team.value]['3P%'])]\n",
    "}\n",
    "                 \n",
    "predictions_X = pd.DataFrame(data=matchup_data)"
   ]
  },
  {
   "cell_type": "markdown",
   "metadata": {
    "extensions": {
     "jupyter_dashboards": {
      "version": 1,
      "views": {
       "grid_default": {
        "col": 0,
        "height": 4,
        "hidden": false,
        "row": 12,
        "width": 4
       },
       "report_default": {
        "hidden": false
       }
      }
     }
    }
   },
   "source": [
    "## Team Wins and Losses By Month"
   ]
  },
  {
   "cell_type": "code",
   "execution_count": null,
   "metadata": {
    "extensions": {
     "jupyter_dashboards": {
      "version": 1,
      "views": {
       "grid_default": {
        "col": 4,
        "height": 6,
        "hidden": false,
        "row": 8,
        "width": 4
       },
       "report_default": {
        "hidden": false
       }
      }
     }
    }
   },
   "outputs": [],
   "source": [
    "fig, ax = plt.subplots(1,2, figsize=(10,4))  # 1 row, 2 columns\n",
    "\n",
    "home_team_history = box_scores_df.loc[box_scores_df['HomeTeam'].isin({home_team.value}) | box_scores_df['VisitorTeam'].isin({home_team.value})]\n",
    "x = home_team_history['Date'].groupby([home_team_history.Date.dt.month, home_team_history.HomeWins]).agg('count')\n",
    "x.unstack().plot(kind='bar', stacked=False, color=['salmon', 'green'], ax=ax[0])  \n",
    "plt.title(home_team.value + \" Break Down\") # This seems to be identical to ax.set_title\n",
    "ax[0].set_title(home_team.value + \" Win/Loss Break Down\")\n",
    "ax[0].legend([\"Losses\", \"Wins\"]);\n",
    "ax[0].set_ylim(0,15)\n",
    "\n",
    "away_team_history = box_scores_df.loc[box_scores_df['HomeTeam'].isin({away_team.value}) | box_scores_df['VisitorTeam'].isin({away_team.value})]\n",
    "y = away_team_history['Date'].groupby([away_team_history.Date.dt.month, away_team_history.HomeWins]).agg('count')\n",
    "y.unstack().plot(kind='bar', stacked=False, color=['salmon', 'green'],ax=ax[1])  \n",
    "ax[1].set_title(away_team.value + \" Win/Loss Break Down\")\n",
    "ax[1].legend([\"Losses\", \"Wins\"]);\n",
    "ax[1].set_ylim(0,15)\n",
    "printmd('Data Showing wins and losses graphed by month but not a factor in prediction')\n",
    "plt.tight_layout()\n",
    "plt.show()\n",
    "\n",
    "\n"
   ]
  },
  {
   "cell_type": "markdown",
   "metadata": {
    "extensions": {
     "jupyter_dashboards": {
      "version": 1,
      "views": {
       "grid_default": {
        "col": 4,
        "height": 4,
        "hidden": false,
        "row": 14,
        "width": 4
       },
       "report_default": {
        "hidden": false
       }
      }
     }
    }
   },
   "source": [
    "## <center>Game Win Prediction</center>\n"
   ]
  },
  {
   "cell_type": "code",
   "execution_count": null,
   "metadata": {
    "collapsed": true,
    "extensions": {
     "jupyter_dashboards": {
      "version": 1,
      "views": {
       "grid_default": {
        "hidden": true
       },
       "report_default": {
        "hidden": true
       }
      }
     }
    }
   },
   "outputs": [],
   "source": [
    "#Getting all stats for predictions\n",
    "\n",
    "box_scores_df['HomeTeamRanksHigher'] = box_scores_df.apply(home_team_rankings_higher, axis = 1)\n",
    "box_scores_df['HomeTeamFG%Higher'] = box_scores_df.apply(home_team_field_goal_percent_higher, args=('FG%',) ,axis = 1)\n",
    "box_scores_df['HomeTeam3P%Higher'] = box_scores_df.apply(home_team_field_goal_percent_higher, args=('3P%',) ,axis = 1)\n",
    "box_scores_df['HomeTeamPTSHigher'] = box_scores_df.apply(home_team_field_goal_percent_higher, args=('PTS',) ,axis = 1)\n",
    "box_scores_df['HomeTeamAssistTurnOverRatioHigher'] = box_scores_df.apply(home_team_per_assist_turnover_ratio_higher, axis = 1)\n",
    "\n",
    "#This gets the Away Team and if they had a back to back away Game\n",
    "#Line commented below can be used later to get the number of days of rest\n",
    "#df['VisitorRest'] =  df.groupby(['VisitorTeam'])['Date'].diff() - timedelta(days=1) \n",
    "visitor_rest_holder = box_scores_df.groupby(['VisitorTeam'])['Date'].diff() - timedelta(days=1)  == timedelta(days=0)\n",
    "box_scores_df['VisitorBackToBack'] = visitor_rest_holder\n"
   ]
  },
  {
   "cell_type": "code",
   "execution_count": null,
   "metadata": {
    "collapsed": true,
    "extensions": {
     "jupyter_dashboards": {
      "version": 1,
      "views": {
       "grid_default": {
        "hidden": true
       },
       "report_default": {
        "hidden": true
       }
      }
     }
    }
   },
   "outputs": [],
   "source": [
    "#This is the predictor variable \n",
    "#RENAME THIS\n",
    "X_features = box_scores_df[['HomeTeamRanksHigher', 'HomeTeamPTSHigher','HomeTeamFG%Higher', 'HomeTeamAssistTurnOverRatioHigher','HomeTeam3P%Higher']]\n"
   ]
  },
  {
   "cell_type": "code",
   "execution_count": null,
   "metadata": {
    "extensions": {
     "jupyter_dashboards": {
      "version": 1,
      "views": {
       "grid_default": {
        "hidden": true
       },
       "report_default": {
        "hidden": true
       }
      }
     }
    }
   },
   "outputs": [],
   "source": [
    "strat_k_fold = StratifiedKFold(n_splits=10, random_state=10)\n",
    "\n",
    "# Specify parameters\n",
    "c_values = list(np.arange(1, 10))\n",
    "param_grid = [\n",
    "    {'C': c_values, 'penalty': ['l1'], 'solver' : ['liblinear'], 'multi_class' : ['ovr']},\n",
    "    {'C': c_values, 'penalty': ['l2'], 'solver' : ['liblinear', 'newton-cg', 'lbfgs'], 'multi_class' : ['ovr']}\n",
    "]\n",
    "\n",
    "grid = GridSearchCV(LogisticRegression(), param_grid, cv=strat_k_fold, scoring='accuracy', iid=False)\n",
    "grid.fit(X_features, y_true)\n",
    "print(grid.best_score_)"
   ]
  },
  {
   "cell_type": "code",
   "execution_count": null,
   "metadata": {
    "collapsed": true,
    "extensions": {
     "jupyter_dashboards": {
      "version": 1,
      "views": {
       "grid_default": {
        "hidden": true
       },
       "report_default": {
        "hidden": true
       }
      }
     }
    }
   },
   "outputs": [],
   "source": [
    "result = grid.predict(predictions_X)"
   ]
  },
  {
   "cell_type": "code",
   "execution_count": null,
   "metadata": {
    "extensions": {
     "jupyter_dashboards": {
      "version": 1,
      "views": {
       "grid_default": {
        "hidden": true
       },
       "report_default": {
        "hidden": false
       }
      }
     }
    }
   },
   "outputs": [],
   "source": [
    "winning_team = winning_team_prediction(result[0])\n",
    "printmd('<h2 style=\"color:Red;\"><center>Winner of Game --- {}</center></h2>'.format(winning_team_prediction(result[0])))\n"
   ]
  },
  {
   "cell_type": "code",
   "execution_count": null,
   "metadata": {
    "collapsed": true,
    "extensions": {
     "jupyter_dashboards": {
      "version": 1,
      "views": {
       "grid_default": {},
       "report_default": {
        "hidden": true
       }
      }
     }
    }
   },
   "outputs": [],
   "source": []
  }
 ],
 "metadata": {
  "extensions": {
   "jupyter_dashboards": {
    "activeView": "report_default",
    "version": 1,
    "views": {
     "grid_default": {
      "cellMargin": 10,
      "defaultCellHeight": 20,
      "maxColumns": 12,
      "name": "grid",
      "type": "grid"
     },
     "report_default": {
      "name": "report",
      "type": "report"
     }
    }
   }
  },
  "kernelspec": {
   "display_name": "Python 3",
   "language": "python",
   "name": "python3"
  },
  "language_info": {
   "codemirror_mode": {
    "name": "ipython",
    "version": 3
   },
   "file_extension": ".py",
   "mimetype": "text/x-python",
   "name": "python",
   "nbconvert_exporter": "python",
   "pygments_lexer": "ipython3",
   "version": "3.6.3"
  }
 },
 "nbformat": 4,
 "nbformat_minor": 2
}
